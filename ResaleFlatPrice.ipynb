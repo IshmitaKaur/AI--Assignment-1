{
  "nbformat": 4,
  "nbformat_minor": 0,
  "metadata": {
    "colab": {
      "provenance": [],
      "collapsed_sections": [],
      "authorship_tag": "ABX9TyOeIZ9cWSqTKGcyyE1PYUXK",
      "include_colab_link": true
    },
    "kernelspec": {
      "name": "python3",
      "display_name": "Python 3"
    },
    "language_info": {
      "name": "python"
    },
    "accelerator": "GPU",
    "gpuClass": "standard"
  },
  "cells": [
    {
      "cell_type": "markdown",
      "metadata": {
        "id": "view-in-github",
        "colab_type": "text"
      },
      "source": [
        "<a href=\"https://colab.research.google.com/github/IshmitaKaur/AI--Assignment-1/blob/main/ResaleFlatPrice.ipynb\" target=\"_parent\"><img src=\"https://colab.research.google.com/assets/colab-badge.svg\" alt=\"Open In Colab\"/></a>"
      ]
    },
    {
      "cell_type": "code",
      "execution_count": 2,
      "metadata": {
        "id": "hdzqdHgYZBtw"
      },
      "outputs": [],
      "source": [
        "# Business Case\n",
        "# Assuming you are working in a bank and a customer is requesting for house loan\n",
        "# You need to estimate the amount of loan you could grant to the customer\n",
        "# Hence you need to estimate the value of the house\n",
        "# You are to create model to predict the value of the house using machine learning model\n",
        "# There are 10 attributes and you have finally decided on 'town', 'flat_type','floor_area_sqm','flat_model', 'lease_commence_date'.\n",
        "# Remember to use dummy variables on categorical input => you should have 55 columns include Y\n",
        "# Normalize floor_area_sqm using zscore before split (**)\n",
        "# Remember to split train test using default rates\n",
        "# All machine learning use default setting\n",
        "# measurement is rmse\n",
        "# random state is 1 (need to use in train test split and model creation)\n",
        "# data visualization is needed. At least use one of pandas, seaborn and matplotlib.\n",
        "# the results rmse should be regression 62455, Decision Tree 43711,Random Forest 40131, GBoost 62325, NN 151107 (4 significant figure)\n",
        "# how to improve the results by change the features selected, data wrangling or parameter setting including using keras and tensorflow.\n",
        "# Qualitatively, explain the pros and cons about your model\n",
        "# How to overcome the weakness of your model (future study)\n",
        "# the important of your model to the bank\n",
        "#apply orange on all the models.\n",
        "# Good luck, Enjoy doing your homework"
      ]
    },
    {
      "cell_type": "code",
      "source": [
        "import pandas as pd"
      ],
      "metadata": {
        "id": "RzCnYGFfZZOj"
      },
      "execution_count": 4,
      "outputs": []
    },
    {
      "cell_type": "code",
      "source": [
        "df = pd.read_csv(\"https://raw.githubusercontent.com/IshmitaKaur/AI--Assignment-1/main/ResaleFlatPrice.csv\")"
      ],
      "metadata": {
        "id": "7YbdYdopdigU"
      },
      "execution_count": 5,
      "outputs": []
    },
    {
      "cell_type": "code",
      "source": [
        "df"
      ],
      "metadata": {
        "colab": {
          "base_uri": "https://localhost:8080/",
          "height": 661
        },
        "id": "PXTxNkoiZxkG",
        "outputId": "3b783f34-760b-49d9-8c1f-39e0c536eb43"
      },
      "execution_count": 6,
      "outputs": [
        {
          "output_type": "execute_result",
          "data": {
            "text/plain": [
              "         month        town  flat_type block       street_name storey_range  \\\n",
              "0      2019-01  ANG MO KIO     3 ROOM   330  ANG MO KIO AVE 1     01 TO 03   \n",
              "1      2019-01  ANG MO KIO     3 ROOM   215  ANG MO KIO AVE 1     04 TO 06   \n",
              "2      2019-01  ANG MO KIO     3 ROOM   225  ANG MO KIO AVE 1     07 TO 09   \n",
              "3      2019-01  ANG MO KIO     3 ROOM   225  ANG MO KIO AVE 1     01 TO 03   \n",
              "4      2019-01  ANG MO KIO     3 ROOM   333  ANG MO KIO AVE 1     01 TO 03   \n",
              "...        ...         ...        ...   ...               ...          ...   \n",
              "22199  2019-12      YISHUN  EXECUTIVE   326    YISHUN RING RD     04 TO 06   \n",
              "22200  2019-12      YISHUN  EXECUTIVE   326    YISHUN RING RD     07 TO 09   \n",
              "22201  2019-12      YISHUN  EXECUTIVE   608      YISHUN ST 61     01 TO 03   \n",
              "22202  2019-12      YISHUN  EXECUTIVE   604      YISHUN ST 61     10 TO 12   \n",
              "22203  2019-12      YISHUN  EXECUTIVE   877      YISHUN ST 81     07 TO 09   \n",
              "\n",
              "       floor_area_sqm      flat_model  lease_commence_date  \\\n",
              "0                68.0  New Generation                 1981   \n",
              "1                73.0  New Generation                 1976   \n",
              "2                67.0  New Generation                 1978   \n",
              "3                67.0  New Generation                 1978   \n",
              "4                68.0  New Generation                 1981   \n",
              "...               ...             ...                  ...   \n",
              "22199           142.0       Apartment                 1988   \n",
              "22200           146.0      Maisonette                 1988   \n",
              "22201           164.0       Apartment                 1992   \n",
              "22202           164.0       Apartment                 1992   \n",
              "22203           145.0      Maisonette                 1987   \n",
              "\n",
              "          remaining_lease  resale_price  \n",
              "0       61 years 01 month      270000.0  \n",
              "1      56 years 04 months      295000.0  \n",
              "2       58 years 01 month      270000.0  \n",
              "3                58 years      230000.0  \n",
              "4                61 years      262500.0  \n",
              "...                   ...           ...  \n",
              "22199  67 years 07 months      580000.0  \n",
              "22200  67 years 07 months      565000.0  \n",
              "22201  71 years 06 months      633000.0  \n",
              "22202  71 years 06 months      788888.0  \n",
              "22203   67 years 01 month      618000.0  \n",
              "\n",
              "[22204 rows x 11 columns]"
            ],
            "text/html": [
              "\n",
              "  <div id=\"df-2ffa6ce5-5edb-411a-961a-e8093f53510c\">\n",
              "    <div class=\"colab-df-container\">\n",
              "      <div>\n",
              "<style scoped>\n",
              "    .dataframe tbody tr th:only-of-type {\n",
              "        vertical-align: middle;\n",
              "    }\n",
              "\n",
              "    .dataframe tbody tr th {\n",
              "        vertical-align: top;\n",
              "    }\n",
              "\n",
              "    .dataframe thead th {\n",
              "        text-align: right;\n",
              "    }\n",
              "</style>\n",
              "<table border=\"1\" class=\"dataframe\">\n",
              "  <thead>\n",
              "    <tr style=\"text-align: right;\">\n",
              "      <th></th>\n",
              "      <th>month</th>\n",
              "      <th>town</th>\n",
              "      <th>flat_type</th>\n",
              "      <th>block</th>\n",
              "      <th>street_name</th>\n",
              "      <th>storey_range</th>\n",
              "      <th>floor_area_sqm</th>\n",
              "      <th>flat_model</th>\n",
              "      <th>lease_commence_date</th>\n",
              "      <th>remaining_lease</th>\n",
              "      <th>resale_price</th>\n",
              "    </tr>\n",
              "  </thead>\n",
              "  <tbody>\n",
              "    <tr>\n",
              "      <th>0</th>\n",
              "      <td>2019-01</td>\n",
              "      <td>ANG MO KIO</td>\n",
              "      <td>3 ROOM</td>\n",
              "      <td>330</td>\n",
              "      <td>ANG MO KIO AVE 1</td>\n",
              "      <td>01 TO 03</td>\n",
              "      <td>68.0</td>\n",
              "      <td>New Generation</td>\n",
              "      <td>1981</td>\n",
              "      <td>61 years 01 month</td>\n",
              "      <td>270000.0</td>\n",
              "    </tr>\n",
              "    <tr>\n",
              "      <th>1</th>\n",
              "      <td>2019-01</td>\n",
              "      <td>ANG MO KIO</td>\n",
              "      <td>3 ROOM</td>\n",
              "      <td>215</td>\n",
              "      <td>ANG MO KIO AVE 1</td>\n",
              "      <td>04 TO 06</td>\n",
              "      <td>73.0</td>\n",
              "      <td>New Generation</td>\n",
              "      <td>1976</td>\n",
              "      <td>56 years 04 months</td>\n",
              "      <td>295000.0</td>\n",
              "    </tr>\n",
              "    <tr>\n",
              "      <th>2</th>\n",
              "      <td>2019-01</td>\n",
              "      <td>ANG MO KIO</td>\n",
              "      <td>3 ROOM</td>\n",
              "      <td>225</td>\n",
              "      <td>ANG MO KIO AVE 1</td>\n",
              "      <td>07 TO 09</td>\n",
              "      <td>67.0</td>\n",
              "      <td>New Generation</td>\n",
              "      <td>1978</td>\n",
              "      <td>58 years 01 month</td>\n",
              "      <td>270000.0</td>\n",
              "    </tr>\n",
              "    <tr>\n",
              "      <th>3</th>\n",
              "      <td>2019-01</td>\n",
              "      <td>ANG MO KIO</td>\n",
              "      <td>3 ROOM</td>\n",
              "      <td>225</td>\n",
              "      <td>ANG MO KIO AVE 1</td>\n",
              "      <td>01 TO 03</td>\n",
              "      <td>67.0</td>\n",
              "      <td>New Generation</td>\n",
              "      <td>1978</td>\n",
              "      <td>58 years</td>\n",
              "      <td>230000.0</td>\n",
              "    </tr>\n",
              "    <tr>\n",
              "      <th>4</th>\n",
              "      <td>2019-01</td>\n",
              "      <td>ANG MO KIO</td>\n",
              "      <td>3 ROOM</td>\n",
              "      <td>333</td>\n",
              "      <td>ANG MO KIO AVE 1</td>\n",
              "      <td>01 TO 03</td>\n",
              "      <td>68.0</td>\n",
              "      <td>New Generation</td>\n",
              "      <td>1981</td>\n",
              "      <td>61 years</td>\n",
              "      <td>262500.0</td>\n",
              "    </tr>\n",
              "    <tr>\n",
              "      <th>...</th>\n",
              "      <td>...</td>\n",
              "      <td>...</td>\n",
              "      <td>...</td>\n",
              "      <td>...</td>\n",
              "      <td>...</td>\n",
              "      <td>...</td>\n",
              "      <td>...</td>\n",
              "      <td>...</td>\n",
              "      <td>...</td>\n",
              "      <td>...</td>\n",
              "      <td>...</td>\n",
              "    </tr>\n",
              "    <tr>\n",
              "      <th>22199</th>\n",
              "      <td>2019-12</td>\n",
              "      <td>YISHUN</td>\n",
              "      <td>EXECUTIVE</td>\n",
              "      <td>326</td>\n",
              "      <td>YISHUN RING RD</td>\n",
              "      <td>04 TO 06</td>\n",
              "      <td>142.0</td>\n",
              "      <td>Apartment</td>\n",
              "      <td>1988</td>\n",
              "      <td>67 years 07 months</td>\n",
              "      <td>580000.0</td>\n",
              "    </tr>\n",
              "    <tr>\n",
              "      <th>22200</th>\n",
              "      <td>2019-12</td>\n",
              "      <td>YISHUN</td>\n",
              "      <td>EXECUTIVE</td>\n",
              "      <td>326</td>\n",
              "      <td>YISHUN RING RD</td>\n",
              "      <td>07 TO 09</td>\n",
              "      <td>146.0</td>\n",
              "      <td>Maisonette</td>\n",
              "      <td>1988</td>\n",
              "      <td>67 years 07 months</td>\n",
              "      <td>565000.0</td>\n",
              "    </tr>\n",
              "    <tr>\n",
              "      <th>22201</th>\n",
              "      <td>2019-12</td>\n",
              "      <td>YISHUN</td>\n",
              "      <td>EXECUTIVE</td>\n",
              "      <td>608</td>\n",
              "      <td>YISHUN ST 61</td>\n",
              "      <td>01 TO 03</td>\n",
              "      <td>164.0</td>\n",
              "      <td>Apartment</td>\n",
              "      <td>1992</td>\n",
              "      <td>71 years 06 months</td>\n",
              "      <td>633000.0</td>\n",
              "    </tr>\n",
              "    <tr>\n",
              "      <th>22202</th>\n",
              "      <td>2019-12</td>\n",
              "      <td>YISHUN</td>\n",
              "      <td>EXECUTIVE</td>\n",
              "      <td>604</td>\n",
              "      <td>YISHUN ST 61</td>\n",
              "      <td>10 TO 12</td>\n",
              "      <td>164.0</td>\n",
              "      <td>Apartment</td>\n",
              "      <td>1992</td>\n",
              "      <td>71 years 06 months</td>\n",
              "      <td>788888.0</td>\n",
              "    </tr>\n",
              "    <tr>\n",
              "      <th>22203</th>\n",
              "      <td>2019-12</td>\n",
              "      <td>YISHUN</td>\n",
              "      <td>EXECUTIVE</td>\n",
              "      <td>877</td>\n",
              "      <td>YISHUN ST 81</td>\n",
              "      <td>07 TO 09</td>\n",
              "      <td>145.0</td>\n",
              "      <td>Maisonette</td>\n",
              "      <td>1987</td>\n",
              "      <td>67 years 01 month</td>\n",
              "      <td>618000.0</td>\n",
              "    </tr>\n",
              "  </tbody>\n",
              "</table>\n",
              "<p>22204 rows × 11 columns</p>\n",
              "</div>\n",
              "      <button class=\"colab-df-convert\" onclick=\"convertToInteractive('df-2ffa6ce5-5edb-411a-961a-e8093f53510c')\"\n",
              "              title=\"Convert this dataframe to an interactive table.\"\n",
              "              style=\"display:none;\">\n",
              "        \n",
              "  <svg xmlns=\"http://www.w3.org/2000/svg\" height=\"24px\"viewBox=\"0 0 24 24\"\n",
              "       width=\"24px\">\n",
              "    <path d=\"M0 0h24v24H0V0z\" fill=\"none\"/>\n",
              "    <path d=\"M18.56 5.44l.94 2.06.94-2.06 2.06-.94-2.06-.94-.94-2.06-.94 2.06-2.06.94zm-11 1L8.5 8.5l.94-2.06 2.06-.94-2.06-.94L8.5 2.5l-.94 2.06-2.06.94zm10 10l.94 2.06.94-2.06 2.06-.94-2.06-.94-.94-2.06-.94 2.06-2.06.94z\"/><path d=\"M17.41 7.96l-1.37-1.37c-.4-.4-.92-.59-1.43-.59-.52 0-1.04.2-1.43.59L10.3 9.45l-7.72 7.72c-.78.78-.78 2.05 0 2.83L4 21.41c.39.39.9.59 1.41.59.51 0 1.02-.2 1.41-.59l7.78-7.78 2.81-2.81c.8-.78.8-2.07 0-2.86zM5.41 20L4 18.59l7.72-7.72 1.47 1.35L5.41 20z\"/>\n",
              "  </svg>\n",
              "      </button>\n",
              "      \n",
              "  <style>\n",
              "    .colab-df-container {\n",
              "      display:flex;\n",
              "      flex-wrap:wrap;\n",
              "      gap: 12px;\n",
              "    }\n",
              "\n",
              "    .colab-df-convert {\n",
              "      background-color: #E8F0FE;\n",
              "      border: none;\n",
              "      border-radius: 50%;\n",
              "      cursor: pointer;\n",
              "      display: none;\n",
              "      fill: #1967D2;\n",
              "      height: 32px;\n",
              "      padding: 0 0 0 0;\n",
              "      width: 32px;\n",
              "    }\n",
              "\n",
              "    .colab-df-convert:hover {\n",
              "      background-color: #E2EBFA;\n",
              "      box-shadow: 0px 1px 2px rgba(60, 64, 67, 0.3), 0px 1px 3px 1px rgba(60, 64, 67, 0.15);\n",
              "      fill: #174EA6;\n",
              "    }\n",
              "\n",
              "    [theme=dark] .colab-df-convert {\n",
              "      background-color: #3B4455;\n",
              "      fill: #D2E3FC;\n",
              "    }\n",
              "\n",
              "    [theme=dark] .colab-df-convert:hover {\n",
              "      background-color: #434B5C;\n",
              "      box-shadow: 0px 1px 3px 1px rgba(0, 0, 0, 0.15);\n",
              "      filter: drop-shadow(0px 1px 2px rgba(0, 0, 0, 0.3));\n",
              "      fill: #FFFFFF;\n",
              "    }\n",
              "  </style>\n",
              "\n",
              "      <script>\n",
              "        const buttonEl =\n",
              "          document.querySelector('#df-2ffa6ce5-5edb-411a-961a-e8093f53510c button.colab-df-convert');\n",
              "        buttonEl.style.display =\n",
              "          google.colab.kernel.accessAllowed ? 'block' : 'none';\n",
              "\n",
              "        async function convertToInteractive(key) {\n",
              "          const element = document.querySelector('#df-2ffa6ce5-5edb-411a-961a-e8093f53510c');\n",
              "          const dataTable =\n",
              "            await google.colab.kernel.invokeFunction('convertToInteractive',\n",
              "                                                     [key], {});\n",
              "          if (!dataTable) return;\n",
              "\n",
              "          const docLinkHtml = 'Like what you see? Visit the ' +\n",
              "            '<a target=\"_blank\" href=https://colab.research.google.com/notebooks/data_table.ipynb>data table notebook</a>'\n",
              "            + ' to learn more about interactive tables.';\n",
              "          element.innerHTML = '';\n",
              "          dataTable['output_type'] = 'display_data';\n",
              "          await google.colab.output.renderOutput(dataTable, element);\n",
              "          const docLink = document.createElement('div');\n",
              "          docLink.innerHTML = docLinkHtml;\n",
              "          element.appendChild(docLink);\n",
              "        }\n",
              "      </script>\n",
              "    </div>\n",
              "  </div>\n",
              "  "
            ]
          },
          "metadata": {},
          "execution_count": 6
        }
      ]
    },
    {
      "cell_type": "code",
      "source": [
        "df = df.dropna()"
      ],
      "metadata": {
        "id": "acpaTBwYfPcD"
      },
      "execution_count": 7,
      "outputs": []
    },
    {
      "cell_type": "code",
      "source": [
        "df[\"flat_model\"].value_counts()"
      ],
      "metadata": {
        "colab": {
          "base_uri": "https://localhost:8080/"
        },
        "id": "pO1wr1dlhnDP",
        "outputId": "4544be03-beed-48d8-d2d8-fa6e9b2b0a96"
      },
      "execution_count": 8,
      "outputs": [
        {
          "output_type": "execute_result",
          "data": {
            "text/plain": [
              "Model A                   7664\n",
              "Improved                  5560\n",
              "New Generation            3056\n",
              "Premium Apartment         2122\n",
              "Simplified                 930\n",
              "Apartment                  816\n",
              "Maisonette                 662\n",
              "Standard                   647\n",
              "DBSS                       310\n",
              "Model A2                   254\n",
              "Model A-Maisonette          46\n",
              "Adjoined flat               46\n",
              "Type S1                     37\n",
              "Type S2                     16\n",
              "Terrace                     14\n",
              "Multi Generation            14\n",
              "Premium Apartment Loft       4\n",
              "Premium Maisonette           4\n",
              "Improved-Maisonette          2\n",
              "Name: flat_model, dtype: int64"
            ]
          },
          "metadata": {},
          "execution_count": 8
        }
      ]
    },
    {
      "cell_type": "code",
      "source": [
        "df = df.loc[:, ['town', 'flat_type', 'floor_area_sqm', 'flat_model', 'lease_commence_date', 'resale_price']]"
      ],
      "metadata": {
        "id": "WdgMNG2chroU"
      },
      "execution_count": 9,
      "outputs": []
    },
    {
      "cell_type": "code",
      "source": [
        "df"
      ],
      "metadata": {
        "colab": {
          "base_uri": "https://localhost:8080/",
          "height": 424
        },
        "id": "tpk4JgXXh8gP",
        "outputId": "de733243-bbce-4e72-f959-7fbd57a4bf15"
      },
      "execution_count": 10,
      "outputs": [
        {
          "output_type": "execute_result",
          "data": {
            "text/plain": [
              "             town  flat_type  floor_area_sqm      flat_model  \\\n",
              "0      ANG MO KIO     3 ROOM            68.0  New Generation   \n",
              "1      ANG MO KIO     3 ROOM            73.0  New Generation   \n",
              "2      ANG MO KIO     3 ROOM            67.0  New Generation   \n",
              "3      ANG MO KIO     3 ROOM            67.0  New Generation   \n",
              "4      ANG MO KIO     3 ROOM            68.0  New Generation   \n",
              "...           ...        ...             ...             ...   \n",
              "22199      YISHUN  EXECUTIVE           142.0       Apartment   \n",
              "22200      YISHUN  EXECUTIVE           146.0      Maisonette   \n",
              "22201      YISHUN  EXECUTIVE           164.0       Apartment   \n",
              "22202      YISHUN  EXECUTIVE           164.0       Apartment   \n",
              "22203      YISHUN  EXECUTIVE           145.0      Maisonette   \n",
              "\n",
              "       lease_commence_date  resale_price  \n",
              "0                     1981      270000.0  \n",
              "1                     1976      295000.0  \n",
              "2                     1978      270000.0  \n",
              "3                     1978      230000.0  \n",
              "4                     1981      262500.0  \n",
              "...                    ...           ...  \n",
              "22199                 1988      580000.0  \n",
              "22200                 1988      565000.0  \n",
              "22201                 1992      633000.0  \n",
              "22202                 1992      788888.0  \n",
              "22203                 1987      618000.0  \n",
              "\n",
              "[22204 rows x 6 columns]"
            ],
            "text/html": [
              "\n",
              "  <div id=\"df-48e8233c-49af-4cbd-8618-7bd8b36bac46\">\n",
              "    <div class=\"colab-df-container\">\n",
              "      <div>\n",
              "<style scoped>\n",
              "    .dataframe tbody tr th:only-of-type {\n",
              "        vertical-align: middle;\n",
              "    }\n",
              "\n",
              "    .dataframe tbody tr th {\n",
              "        vertical-align: top;\n",
              "    }\n",
              "\n",
              "    .dataframe thead th {\n",
              "        text-align: right;\n",
              "    }\n",
              "</style>\n",
              "<table border=\"1\" class=\"dataframe\">\n",
              "  <thead>\n",
              "    <tr style=\"text-align: right;\">\n",
              "      <th></th>\n",
              "      <th>town</th>\n",
              "      <th>flat_type</th>\n",
              "      <th>floor_area_sqm</th>\n",
              "      <th>flat_model</th>\n",
              "      <th>lease_commence_date</th>\n",
              "      <th>resale_price</th>\n",
              "    </tr>\n",
              "  </thead>\n",
              "  <tbody>\n",
              "    <tr>\n",
              "      <th>0</th>\n",
              "      <td>ANG MO KIO</td>\n",
              "      <td>3 ROOM</td>\n",
              "      <td>68.0</td>\n",
              "      <td>New Generation</td>\n",
              "      <td>1981</td>\n",
              "      <td>270000.0</td>\n",
              "    </tr>\n",
              "    <tr>\n",
              "      <th>1</th>\n",
              "      <td>ANG MO KIO</td>\n",
              "      <td>3 ROOM</td>\n",
              "      <td>73.0</td>\n",
              "      <td>New Generation</td>\n",
              "      <td>1976</td>\n",
              "      <td>295000.0</td>\n",
              "    </tr>\n",
              "    <tr>\n",
              "      <th>2</th>\n",
              "      <td>ANG MO KIO</td>\n",
              "      <td>3 ROOM</td>\n",
              "      <td>67.0</td>\n",
              "      <td>New Generation</td>\n",
              "      <td>1978</td>\n",
              "      <td>270000.0</td>\n",
              "    </tr>\n",
              "    <tr>\n",
              "      <th>3</th>\n",
              "      <td>ANG MO KIO</td>\n",
              "      <td>3 ROOM</td>\n",
              "      <td>67.0</td>\n",
              "      <td>New Generation</td>\n",
              "      <td>1978</td>\n",
              "      <td>230000.0</td>\n",
              "    </tr>\n",
              "    <tr>\n",
              "      <th>4</th>\n",
              "      <td>ANG MO KIO</td>\n",
              "      <td>3 ROOM</td>\n",
              "      <td>68.0</td>\n",
              "      <td>New Generation</td>\n",
              "      <td>1981</td>\n",
              "      <td>262500.0</td>\n",
              "    </tr>\n",
              "    <tr>\n",
              "      <th>...</th>\n",
              "      <td>...</td>\n",
              "      <td>...</td>\n",
              "      <td>...</td>\n",
              "      <td>...</td>\n",
              "      <td>...</td>\n",
              "      <td>...</td>\n",
              "    </tr>\n",
              "    <tr>\n",
              "      <th>22199</th>\n",
              "      <td>YISHUN</td>\n",
              "      <td>EXECUTIVE</td>\n",
              "      <td>142.0</td>\n",
              "      <td>Apartment</td>\n",
              "      <td>1988</td>\n",
              "      <td>580000.0</td>\n",
              "    </tr>\n",
              "    <tr>\n",
              "      <th>22200</th>\n",
              "      <td>YISHUN</td>\n",
              "      <td>EXECUTIVE</td>\n",
              "      <td>146.0</td>\n",
              "      <td>Maisonette</td>\n",
              "      <td>1988</td>\n",
              "      <td>565000.0</td>\n",
              "    </tr>\n",
              "    <tr>\n",
              "      <th>22201</th>\n",
              "      <td>YISHUN</td>\n",
              "      <td>EXECUTIVE</td>\n",
              "      <td>164.0</td>\n",
              "      <td>Apartment</td>\n",
              "      <td>1992</td>\n",
              "      <td>633000.0</td>\n",
              "    </tr>\n",
              "    <tr>\n",
              "      <th>22202</th>\n",
              "      <td>YISHUN</td>\n",
              "      <td>EXECUTIVE</td>\n",
              "      <td>164.0</td>\n",
              "      <td>Apartment</td>\n",
              "      <td>1992</td>\n",
              "      <td>788888.0</td>\n",
              "    </tr>\n",
              "    <tr>\n",
              "      <th>22203</th>\n",
              "      <td>YISHUN</td>\n",
              "      <td>EXECUTIVE</td>\n",
              "      <td>145.0</td>\n",
              "      <td>Maisonette</td>\n",
              "      <td>1987</td>\n",
              "      <td>618000.0</td>\n",
              "    </tr>\n",
              "  </tbody>\n",
              "</table>\n",
              "<p>22204 rows × 6 columns</p>\n",
              "</div>\n",
              "      <button class=\"colab-df-convert\" onclick=\"convertToInteractive('df-48e8233c-49af-4cbd-8618-7bd8b36bac46')\"\n",
              "              title=\"Convert this dataframe to an interactive table.\"\n",
              "              style=\"display:none;\">\n",
              "        \n",
              "  <svg xmlns=\"http://www.w3.org/2000/svg\" height=\"24px\"viewBox=\"0 0 24 24\"\n",
              "       width=\"24px\">\n",
              "    <path d=\"M0 0h24v24H0V0z\" fill=\"none\"/>\n",
              "    <path d=\"M18.56 5.44l.94 2.06.94-2.06 2.06-.94-2.06-.94-.94-2.06-.94 2.06-2.06.94zm-11 1L8.5 8.5l.94-2.06 2.06-.94-2.06-.94L8.5 2.5l-.94 2.06-2.06.94zm10 10l.94 2.06.94-2.06 2.06-.94-2.06-.94-.94-2.06-.94 2.06-2.06.94z\"/><path d=\"M17.41 7.96l-1.37-1.37c-.4-.4-.92-.59-1.43-.59-.52 0-1.04.2-1.43.59L10.3 9.45l-7.72 7.72c-.78.78-.78 2.05 0 2.83L4 21.41c.39.39.9.59 1.41.59.51 0 1.02-.2 1.41-.59l7.78-7.78 2.81-2.81c.8-.78.8-2.07 0-2.86zM5.41 20L4 18.59l7.72-7.72 1.47 1.35L5.41 20z\"/>\n",
              "  </svg>\n",
              "      </button>\n",
              "      \n",
              "  <style>\n",
              "    .colab-df-container {\n",
              "      display:flex;\n",
              "      flex-wrap:wrap;\n",
              "      gap: 12px;\n",
              "    }\n",
              "\n",
              "    .colab-df-convert {\n",
              "      background-color: #E8F0FE;\n",
              "      border: none;\n",
              "      border-radius: 50%;\n",
              "      cursor: pointer;\n",
              "      display: none;\n",
              "      fill: #1967D2;\n",
              "      height: 32px;\n",
              "      padding: 0 0 0 0;\n",
              "      width: 32px;\n",
              "    }\n",
              "\n",
              "    .colab-df-convert:hover {\n",
              "      background-color: #E2EBFA;\n",
              "      box-shadow: 0px 1px 2px rgba(60, 64, 67, 0.3), 0px 1px 3px 1px rgba(60, 64, 67, 0.15);\n",
              "      fill: #174EA6;\n",
              "    }\n",
              "\n",
              "    [theme=dark] .colab-df-convert {\n",
              "      background-color: #3B4455;\n",
              "      fill: #D2E3FC;\n",
              "    }\n",
              "\n",
              "    [theme=dark] .colab-df-convert:hover {\n",
              "      background-color: #434B5C;\n",
              "      box-shadow: 0px 1px 3px 1px rgba(0, 0, 0, 0.15);\n",
              "      filter: drop-shadow(0px 1px 2px rgba(0, 0, 0, 0.3));\n",
              "      fill: #FFFFFF;\n",
              "    }\n",
              "  </style>\n",
              "\n",
              "      <script>\n",
              "        const buttonEl =\n",
              "          document.querySelector('#df-48e8233c-49af-4cbd-8618-7bd8b36bac46 button.colab-df-convert');\n",
              "        buttonEl.style.display =\n",
              "          google.colab.kernel.accessAllowed ? 'block' : 'none';\n",
              "\n",
              "        async function convertToInteractive(key) {\n",
              "          const element = document.querySelector('#df-48e8233c-49af-4cbd-8618-7bd8b36bac46');\n",
              "          const dataTable =\n",
              "            await google.colab.kernel.invokeFunction('convertToInteractive',\n",
              "                                                     [key], {});\n",
              "          if (!dataTable) return;\n",
              "\n",
              "          const docLinkHtml = 'Like what you see? Visit the ' +\n",
              "            '<a target=\"_blank\" href=https://colab.research.google.com/notebooks/data_table.ipynb>data table notebook</a>'\n",
              "            + ' to learn more about interactive tables.';\n",
              "          element.innerHTML = '';\n",
              "          dataTable['output_type'] = 'display_data';\n",
              "          await google.colab.output.renderOutput(dataTable, element);\n",
              "          const docLink = document.createElement('div');\n",
              "          docLink.innerHTML = docLinkHtml;\n",
              "          element.appendChild(docLink);\n",
              "        }\n",
              "      </script>\n",
              "    </div>\n",
              "  </div>\n",
              "  "
            ]
          },
          "metadata": {},
          "execution_count": 10
        }
      ]
    },
    {
      "cell_type": "code",
      "source": [
        "from scipy import stats"
      ],
      "metadata": {
        "id": "XiHRc-F1iBBI"
      },
      "execution_count": 11,
      "outputs": []
    },
    {
      "cell_type": "code",
      "source": [
        "df[\"floor_area_sqm\"] = stats.zscore(df[\"floor_area_sqm\"])"
      ],
      "metadata": {
        "id": "-1NwumlEiKE7"
      },
      "execution_count": 12,
      "outputs": []
    },
    {
      "cell_type": "code",
      "source": [
        "dummy = pd.get_dummies(df[\"town\"])"
      ],
      "metadata": {
        "id": "LN-J6WjHiPAV"
      },
      "execution_count": 13,
      "outputs": []
    },
    {
      "cell_type": "code",
      "source": [
        "df = df.merge(dummy, left_index=True, right_index=True).drop(columns=\"town\")"
      ],
      "metadata": {
        "id": "XBdcP1AEiRsp"
      },
      "execution_count": 14,
      "outputs": []
    },
    {
      "cell_type": "code",
      "source": [
        "df"
      ],
      "metadata": {
        "colab": {
          "base_uri": "https://localhost:8080/",
          "height": 609
        },
        "id": "uK51TU8tiUlh",
        "outputId": "794b396e-714d-466a-e3b5-74b1ccb2deaa"
      },
      "execution_count": 15,
      "outputs": [
        {
          "output_type": "execute_result",
          "data": {
            "text/plain": [
              "       flat_type  floor_area_sqm      flat_model  lease_commence_date  \\\n",
              "0         3 ROOM       -1.193788  New Generation                 1981   \n",
              "1         3 ROOM       -0.988498  New Generation                 1976   \n",
              "2         3 ROOM       -1.234846  New Generation                 1978   \n",
              "3         3 ROOM       -1.234846  New Generation                 1978   \n",
              "4         3 ROOM       -1.193788  New Generation                 1981   \n",
              "...          ...             ...             ...                  ...   \n",
              "22199  EXECUTIVE        1.844515       Apartment                 1988   \n",
              "22200  EXECUTIVE        2.008748      Maisonette                 1988   \n",
              "22201  EXECUTIVE        2.747795       Apartment                 1992   \n",
              "22202  EXECUTIVE        2.747795       Apartment                 1992   \n",
              "22203  EXECUTIVE        1.967690      Maisonette                 1987   \n",
              "\n",
              "       resale_price  ANG MO KIO  BEDOK  BISHAN  BUKIT BATOK  BUKIT MERAH  ...  \\\n",
              "0          270000.0           1      0       0            0            0  ...   \n",
              "1          295000.0           1      0       0            0            0  ...   \n",
              "2          270000.0           1      0       0            0            0  ...   \n",
              "3          230000.0           1      0       0            0            0  ...   \n",
              "4          262500.0           1      0       0            0            0  ...   \n",
              "...             ...         ...    ...     ...          ...          ...  ...   \n",
              "22199      580000.0           0      0       0            0            0  ...   \n",
              "22200      565000.0           0      0       0            0            0  ...   \n",
              "22201      633000.0           0      0       0            0            0  ...   \n",
              "22202      788888.0           0      0       0            0            0  ...   \n",
              "22203      618000.0           0      0       0            0            0  ...   \n",
              "\n",
              "       PASIR RIS  PUNGGOL  QUEENSTOWN  SEMBAWANG  SENGKANG  SERANGOON  \\\n",
              "0              0        0           0          0         0          0   \n",
              "1              0        0           0          0         0          0   \n",
              "2              0        0           0          0         0          0   \n",
              "3              0        0           0          0         0          0   \n",
              "4              0        0           0          0         0          0   \n",
              "...          ...      ...         ...        ...       ...        ...   \n",
              "22199          0        0           0          0         0          0   \n",
              "22200          0        0           0          0         0          0   \n",
              "22201          0        0           0          0         0          0   \n",
              "22202          0        0           0          0         0          0   \n",
              "22203          0        0           0          0         0          0   \n",
              "\n",
              "       TAMPINES  TOA PAYOH  WOODLANDS  YISHUN  \n",
              "0             0          0          0       0  \n",
              "1             0          0          0       0  \n",
              "2             0          0          0       0  \n",
              "3             0          0          0       0  \n",
              "4             0          0          0       0  \n",
              "...         ...        ...        ...     ...  \n",
              "22199         0          0          0       1  \n",
              "22200         0          0          0       1  \n",
              "22201         0          0          0       1  \n",
              "22202         0          0          0       1  \n",
              "22203         0          0          0       1  \n",
              "\n",
              "[22204 rows x 31 columns]"
            ],
            "text/html": [
              "\n",
              "  <div id=\"df-d47ad913-4351-4fab-a189-a6e48a53afa0\">\n",
              "    <div class=\"colab-df-container\">\n",
              "      <div>\n",
              "<style scoped>\n",
              "    .dataframe tbody tr th:only-of-type {\n",
              "        vertical-align: middle;\n",
              "    }\n",
              "\n",
              "    .dataframe tbody tr th {\n",
              "        vertical-align: top;\n",
              "    }\n",
              "\n",
              "    .dataframe thead th {\n",
              "        text-align: right;\n",
              "    }\n",
              "</style>\n",
              "<table border=\"1\" class=\"dataframe\">\n",
              "  <thead>\n",
              "    <tr style=\"text-align: right;\">\n",
              "      <th></th>\n",
              "      <th>flat_type</th>\n",
              "      <th>floor_area_sqm</th>\n",
              "      <th>flat_model</th>\n",
              "      <th>lease_commence_date</th>\n",
              "      <th>resale_price</th>\n",
              "      <th>ANG MO KIO</th>\n",
              "      <th>BEDOK</th>\n",
              "      <th>BISHAN</th>\n",
              "      <th>BUKIT BATOK</th>\n",
              "      <th>BUKIT MERAH</th>\n",
              "      <th>...</th>\n",
              "      <th>PASIR RIS</th>\n",
              "      <th>PUNGGOL</th>\n",
              "      <th>QUEENSTOWN</th>\n",
              "      <th>SEMBAWANG</th>\n",
              "      <th>SENGKANG</th>\n",
              "      <th>SERANGOON</th>\n",
              "      <th>TAMPINES</th>\n",
              "      <th>TOA PAYOH</th>\n",
              "      <th>WOODLANDS</th>\n",
              "      <th>YISHUN</th>\n",
              "    </tr>\n",
              "  </thead>\n",
              "  <tbody>\n",
              "    <tr>\n",
              "      <th>0</th>\n",
              "      <td>3 ROOM</td>\n",
              "      <td>-1.193788</td>\n",
              "      <td>New Generation</td>\n",
              "      <td>1981</td>\n",
              "      <td>270000.0</td>\n",
              "      <td>1</td>\n",
              "      <td>0</td>\n",
              "      <td>0</td>\n",
              "      <td>0</td>\n",
              "      <td>0</td>\n",
              "      <td>...</td>\n",
              "      <td>0</td>\n",
              "      <td>0</td>\n",
              "      <td>0</td>\n",
              "      <td>0</td>\n",
              "      <td>0</td>\n",
              "      <td>0</td>\n",
              "      <td>0</td>\n",
              "      <td>0</td>\n",
              "      <td>0</td>\n",
              "      <td>0</td>\n",
              "    </tr>\n",
              "    <tr>\n",
              "      <th>1</th>\n",
              "      <td>3 ROOM</td>\n",
              "      <td>-0.988498</td>\n",
              "      <td>New Generation</td>\n",
              "      <td>1976</td>\n",
              "      <td>295000.0</td>\n",
              "      <td>1</td>\n",
              "      <td>0</td>\n",
              "      <td>0</td>\n",
              "      <td>0</td>\n",
              "      <td>0</td>\n",
              "      <td>...</td>\n",
              "      <td>0</td>\n",
              "      <td>0</td>\n",
              "      <td>0</td>\n",
              "      <td>0</td>\n",
              "      <td>0</td>\n",
              "      <td>0</td>\n",
              "      <td>0</td>\n",
              "      <td>0</td>\n",
              "      <td>0</td>\n",
              "      <td>0</td>\n",
              "    </tr>\n",
              "    <tr>\n",
              "      <th>2</th>\n",
              "      <td>3 ROOM</td>\n",
              "      <td>-1.234846</td>\n",
              "      <td>New Generation</td>\n",
              "      <td>1978</td>\n",
              "      <td>270000.0</td>\n",
              "      <td>1</td>\n",
              "      <td>0</td>\n",
              "      <td>0</td>\n",
              "      <td>0</td>\n",
              "      <td>0</td>\n",
              "      <td>...</td>\n",
              "      <td>0</td>\n",
              "      <td>0</td>\n",
              "      <td>0</td>\n",
              "      <td>0</td>\n",
              "      <td>0</td>\n",
              "      <td>0</td>\n",
              "      <td>0</td>\n",
              "      <td>0</td>\n",
              "      <td>0</td>\n",
              "      <td>0</td>\n",
              "    </tr>\n",
              "    <tr>\n",
              "      <th>3</th>\n",
              "      <td>3 ROOM</td>\n",
              "      <td>-1.234846</td>\n",
              "      <td>New Generation</td>\n",
              "      <td>1978</td>\n",
              "      <td>230000.0</td>\n",
              "      <td>1</td>\n",
              "      <td>0</td>\n",
              "      <td>0</td>\n",
              "      <td>0</td>\n",
              "      <td>0</td>\n",
              "      <td>...</td>\n",
              "      <td>0</td>\n",
              "      <td>0</td>\n",
              "      <td>0</td>\n",
              "      <td>0</td>\n",
              "      <td>0</td>\n",
              "      <td>0</td>\n",
              "      <td>0</td>\n",
              "      <td>0</td>\n",
              "      <td>0</td>\n",
              "      <td>0</td>\n",
              "    </tr>\n",
              "    <tr>\n",
              "      <th>4</th>\n",
              "      <td>3 ROOM</td>\n",
              "      <td>-1.193788</td>\n",
              "      <td>New Generation</td>\n",
              "      <td>1981</td>\n",
              "      <td>262500.0</td>\n",
              "      <td>1</td>\n",
              "      <td>0</td>\n",
              "      <td>0</td>\n",
              "      <td>0</td>\n",
              "      <td>0</td>\n",
              "      <td>...</td>\n",
              "      <td>0</td>\n",
              "      <td>0</td>\n",
              "      <td>0</td>\n",
              "      <td>0</td>\n",
              "      <td>0</td>\n",
              "      <td>0</td>\n",
              "      <td>0</td>\n",
              "      <td>0</td>\n",
              "      <td>0</td>\n",
              "      <td>0</td>\n",
              "    </tr>\n",
              "    <tr>\n",
              "      <th>...</th>\n",
              "      <td>...</td>\n",
              "      <td>...</td>\n",
              "      <td>...</td>\n",
              "      <td>...</td>\n",
              "      <td>...</td>\n",
              "      <td>...</td>\n",
              "      <td>...</td>\n",
              "      <td>...</td>\n",
              "      <td>...</td>\n",
              "      <td>...</td>\n",
              "      <td>...</td>\n",
              "      <td>...</td>\n",
              "      <td>...</td>\n",
              "      <td>...</td>\n",
              "      <td>...</td>\n",
              "      <td>...</td>\n",
              "      <td>...</td>\n",
              "      <td>...</td>\n",
              "      <td>...</td>\n",
              "      <td>...</td>\n",
              "      <td>...</td>\n",
              "    </tr>\n",
              "    <tr>\n",
              "      <th>22199</th>\n",
              "      <td>EXECUTIVE</td>\n",
              "      <td>1.844515</td>\n",
              "      <td>Apartment</td>\n",
              "      <td>1988</td>\n",
              "      <td>580000.0</td>\n",
              "      <td>0</td>\n",
              "      <td>0</td>\n",
              "      <td>0</td>\n",
              "      <td>0</td>\n",
              "      <td>0</td>\n",
              "      <td>...</td>\n",
              "      <td>0</td>\n",
              "      <td>0</td>\n",
              "      <td>0</td>\n",
              "      <td>0</td>\n",
              "      <td>0</td>\n",
              "      <td>0</td>\n",
              "      <td>0</td>\n",
              "      <td>0</td>\n",
              "      <td>0</td>\n",
              "      <td>1</td>\n",
              "    </tr>\n",
              "    <tr>\n",
              "      <th>22200</th>\n",
              "      <td>EXECUTIVE</td>\n",
              "      <td>2.008748</td>\n",
              "      <td>Maisonette</td>\n",
              "      <td>1988</td>\n",
              "      <td>565000.0</td>\n",
              "      <td>0</td>\n",
              "      <td>0</td>\n",
              "      <td>0</td>\n",
              "      <td>0</td>\n",
              "      <td>0</td>\n",
              "      <td>...</td>\n",
              "      <td>0</td>\n",
              "      <td>0</td>\n",
              "      <td>0</td>\n",
              "      <td>0</td>\n",
              "      <td>0</td>\n",
              "      <td>0</td>\n",
              "      <td>0</td>\n",
              "      <td>0</td>\n",
              "      <td>0</td>\n",
              "      <td>1</td>\n",
              "    </tr>\n",
              "    <tr>\n",
              "      <th>22201</th>\n",
              "      <td>EXECUTIVE</td>\n",
              "      <td>2.747795</td>\n",
              "      <td>Apartment</td>\n",
              "      <td>1992</td>\n",
              "      <td>633000.0</td>\n",
              "      <td>0</td>\n",
              "      <td>0</td>\n",
              "      <td>0</td>\n",
              "      <td>0</td>\n",
              "      <td>0</td>\n",
              "      <td>...</td>\n",
              "      <td>0</td>\n",
              "      <td>0</td>\n",
              "      <td>0</td>\n",
              "      <td>0</td>\n",
              "      <td>0</td>\n",
              "      <td>0</td>\n",
              "      <td>0</td>\n",
              "      <td>0</td>\n",
              "      <td>0</td>\n",
              "      <td>1</td>\n",
              "    </tr>\n",
              "    <tr>\n",
              "      <th>22202</th>\n",
              "      <td>EXECUTIVE</td>\n",
              "      <td>2.747795</td>\n",
              "      <td>Apartment</td>\n",
              "      <td>1992</td>\n",
              "      <td>788888.0</td>\n",
              "      <td>0</td>\n",
              "      <td>0</td>\n",
              "      <td>0</td>\n",
              "      <td>0</td>\n",
              "      <td>0</td>\n",
              "      <td>...</td>\n",
              "      <td>0</td>\n",
              "      <td>0</td>\n",
              "      <td>0</td>\n",
              "      <td>0</td>\n",
              "      <td>0</td>\n",
              "      <td>0</td>\n",
              "      <td>0</td>\n",
              "      <td>0</td>\n",
              "      <td>0</td>\n",
              "      <td>1</td>\n",
              "    </tr>\n",
              "    <tr>\n",
              "      <th>22203</th>\n",
              "      <td>EXECUTIVE</td>\n",
              "      <td>1.967690</td>\n",
              "      <td>Maisonette</td>\n",
              "      <td>1987</td>\n",
              "      <td>618000.0</td>\n",
              "      <td>0</td>\n",
              "      <td>0</td>\n",
              "      <td>0</td>\n",
              "      <td>0</td>\n",
              "      <td>0</td>\n",
              "      <td>...</td>\n",
              "      <td>0</td>\n",
              "      <td>0</td>\n",
              "      <td>0</td>\n",
              "      <td>0</td>\n",
              "      <td>0</td>\n",
              "      <td>0</td>\n",
              "      <td>0</td>\n",
              "      <td>0</td>\n",
              "      <td>0</td>\n",
              "      <td>1</td>\n",
              "    </tr>\n",
              "  </tbody>\n",
              "</table>\n",
              "<p>22204 rows × 31 columns</p>\n",
              "</div>\n",
              "      <button class=\"colab-df-convert\" onclick=\"convertToInteractive('df-d47ad913-4351-4fab-a189-a6e48a53afa0')\"\n",
              "              title=\"Convert this dataframe to an interactive table.\"\n",
              "              style=\"display:none;\">\n",
              "        \n",
              "  <svg xmlns=\"http://www.w3.org/2000/svg\" height=\"24px\"viewBox=\"0 0 24 24\"\n",
              "       width=\"24px\">\n",
              "    <path d=\"M0 0h24v24H0V0z\" fill=\"none\"/>\n",
              "    <path d=\"M18.56 5.44l.94 2.06.94-2.06 2.06-.94-2.06-.94-.94-2.06-.94 2.06-2.06.94zm-11 1L8.5 8.5l.94-2.06 2.06-.94-2.06-.94L8.5 2.5l-.94 2.06-2.06.94zm10 10l.94 2.06.94-2.06 2.06-.94-2.06-.94-.94-2.06-.94 2.06-2.06.94z\"/><path d=\"M17.41 7.96l-1.37-1.37c-.4-.4-.92-.59-1.43-.59-.52 0-1.04.2-1.43.59L10.3 9.45l-7.72 7.72c-.78.78-.78 2.05 0 2.83L4 21.41c.39.39.9.59 1.41.59.51 0 1.02-.2 1.41-.59l7.78-7.78 2.81-2.81c.8-.78.8-2.07 0-2.86zM5.41 20L4 18.59l7.72-7.72 1.47 1.35L5.41 20z\"/>\n",
              "  </svg>\n",
              "      </button>\n",
              "      \n",
              "  <style>\n",
              "    .colab-df-container {\n",
              "      display:flex;\n",
              "      flex-wrap:wrap;\n",
              "      gap: 12px;\n",
              "    }\n",
              "\n",
              "    .colab-df-convert {\n",
              "      background-color: #E8F0FE;\n",
              "      border: none;\n",
              "      border-radius: 50%;\n",
              "      cursor: pointer;\n",
              "      display: none;\n",
              "      fill: #1967D2;\n",
              "      height: 32px;\n",
              "      padding: 0 0 0 0;\n",
              "      width: 32px;\n",
              "    }\n",
              "\n",
              "    .colab-df-convert:hover {\n",
              "      background-color: #E2EBFA;\n",
              "      box-shadow: 0px 1px 2px rgba(60, 64, 67, 0.3), 0px 1px 3px 1px rgba(60, 64, 67, 0.15);\n",
              "      fill: #174EA6;\n",
              "    }\n",
              "\n",
              "    [theme=dark] .colab-df-convert {\n",
              "      background-color: #3B4455;\n",
              "      fill: #D2E3FC;\n",
              "    }\n",
              "\n",
              "    [theme=dark] .colab-df-convert:hover {\n",
              "      background-color: #434B5C;\n",
              "      box-shadow: 0px 1px 3px 1px rgba(0, 0, 0, 0.15);\n",
              "      filter: drop-shadow(0px 1px 2px rgba(0, 0, 0, 0.3));\n",
              "      fill: #FFFFFF;\n",
              "    }\n",
              "  </style>\n",
              "\n",
              "      <script>\n",
              "        const buttonEl =\n",
              "          document.querySelector('#df-d47ad913-4351-4fab-a189-a6e48a53afa0 button.colab-df-convert');\n",
              "        buttonEl.style.display =\n",
              "          google.colab.kernel.accessAllowed ? 'block' : 'none';\n",
              "\n",
              "        async function convertToInteractive(key) {\n",
              "          const element = document.querySelector('#df-d47ad913-4351-4fab-a189-a6e48a53afa0');\n",
              "          const dataTable =\n",
              "            await google.colab.kernel.invokeFunction('convertToInteractive',\n",
              "                                                     [key], {});\n",
              "          if (!dataTable) return;\n",
              "\n",
              "          const docLinkHtml = 'Like what you see? Visit the ' +\n",
              "            '<a target=\"_blank\" href=https://colab.research.google.com/notebooks/data_table.ipynb>data table notebook</a>'\n",
              "            + ' to learn more about interactive tables.';\n",
              "          element.innerHTML = '';\n",
              "          dataTable['output_type'] = 'display_data';\n",
              "          await google.colab.output.renderOutput(dataTable, element);\n",
              "          const docLink = document.createElement('div');\n",
              "          docLink.innerHTML = docLinkHtml;\n",
              "          element.appendChild(docLink);\n",
              "        }\n",
              "      </script>\n",
              "    </div>\n",
              "  </div>\n",
              "  "
            ]
          },
          "metadata": {},
          "execution_count": 15
        }
      ]
    },
    {
      "cell_type": "code",
      "source": [
        "df[\"flat_type\"].value_counts()"
      ],
      "metadata": {
        "colab": {
          "base_uri": "https://localhost:8080/"
        },
        "id": "YNGw6lGgiW8e",
        "outputId": "eda27592-7805-4a13-ef2b-dcb1b4c99bf6"
      },
      "execution_count": 16,
      "outputs": [
        {
          "output_type": "execute_result",
          "data": {
            "text/plain": [
              "4 ROOM              9231\n",
              "3 ROOM              5433\n",
              "5 ROOM              5431\n",
              "EXECUTIVE           1669\n",
              "2 ROOM               415\n",
              "MULTI-GENERATION      14\n",
              "1 ROOM                11\n",
              "Name: flat_type, dtype: int64"
            ]
          },
          "metadata": {},
          "execution_count": 16
        }
      ]
    },
    {
      "cell_type": "code",
      "source": [
        "dummy = pd.get_dummies(df[\"flat_type\"])"
      ],
      "metadata": {
        "id": "k1DcfNm0ioMb"
      },
      "execution_count": 17,
      "outputs": []
    },
    {
      "cell_type": "code",
      "source": [
        "df = df.merge(dummy, left_index=True, right_index=True).drop(columns=\"flat_type\")"
      ],
      "metadata": {
        "id": "itDoRmZejBUG"
      },
      "execution_count": 18,
      "outputs": []
    },
    {
      "cell_type": "code",
      "source": [
        "df[\"flat_model\"].value_counts()"
      ],
      "metadata": {
        "colab": {
          "base_uri": "https://localhost:8080/"
        },
        "id": "jrtLGWZtjEc4",
        "outputId": "261c3ac2-a23d-488d-f6ad-3681b617128c"
      },
      "execution_count": 19,
      "outputs": [
        {
          "output_type": "execute_result",
          "data": {
            "text/plain": [
              "Model A                   7664\n",
              "Improved                  5560\n",
              "New Generation            3056\n",
              "Premium Apartment         2122\n",
              "Simplified                 930\n",
              "Apartment                  816\n",
              "Maisonette                 662\n",
              "Standard                   647\n",
              "DBSS                       310\n",
              "Model A2                   254\n",
              "Model A-Maisonette          46\n",
              "Adjoined flat               46\n",
              "Type S1                     37\n",
              "Type S2                     16\n",
              "Terrace                     14\n",
              "Multi Generation            14\n",
              "Premium Apartment Loft       4\n",
              "Premium Maisonette           4\n",
              "Improved-Maisonette          2\n",
              "Name: flat_model, dtype: int64"
            ]
          },
          "metadata": {},
          "execution_count": 19
        }
      ]
    },
    {
      "cell_type": "code",
      "source": [
        "dummy = pd.get_dummies(df[\"flat_model\"])"
      ],
      "metadata": {
        "id": "7-fp8ZyLjMeN"
      },
      "execution_count": 20,
      "outputs": []
    },
    {
      "cell_type": "code",
      "source": [
        "df = df.merge(dummy, left_index=True, right_index=True).drop(columns=\"flat_model\")"
      ],
      "metadata": {
        "id": "TFrInkV-jTng"
      },
      "execution_count": 21,
      "outputs": []
    },
    {
      "cell_type": "code",
      "source": [
        "df"
      ],
      "metadata": {
        "colab": {
          "base_uri": "https://localhost:8080/",
          "height": 522
        },
        "id": "tDkNL0ryjXuz",
        "outputId": "d5d9e695-5cb9-4a15-9d94-0481c3ceb010"
      },
      "execution_count": 22,
      "outputs": [
        {
          "output_type": "execute_result",
          "data": {
            "text/plain": [
              "       floor_area_sqm  lease_commence_date  resale_price  ANG MO KIO  BEDOK  \\\n",
              "0           -1.193788                 1981      270000.0           1      0   \n",
              "1           -0.988498                 1976      295000.0           1      0   \n",
              "2           -1.234846                 1978      270000.0           1      0   \n",
              "3           -1.234846                 1978      230000.0           1      0   \n",
              "4           -1.193788                 1981      262500.0           1      0   \n",
              "...               ...                  ...           ...         ...    ...   \n",
              "22199        1.844515                 1988      580000.0           0      0   \n",
              "22200        2.008748                 1988      565000.0           0      0   \n",
              "22201        2.747795                 1992      633000.0           0      0   \n",
              "22202        2.747795                 1992      788888.0           0      0   \n",
              "22203        1.967690                 1987      618000.0           0      0   \n",
              "\n",
              "       BISHAN  BUKIT BATOK  BUKIT MERAH  BUKIT PANJANG  BUKIT TIMAH  ...  \\\n",
              "0           0            0            0              0            0  ...   \n",
              "1           0            0            0              0            0  ...   \n",
              "2           0            0            0              0            0  ...   \n",
              "3           0            0            0              0            0  ...   \n",
              "4           0            0            0              0            0  ...   \n",
              "...       ...          ...          ...            ...          ...  ...   \n",
              "22199       0            0            0              0            0  ...   \n",
              "22200       0            0            0              0            0  ...   \n",
              "22201       0            0            0              0            0  ...   \n",
              "22202       0            0            0              0            0  ...   \n",
              "22203       0            0            0              0            0  ...   \n",
              "\n",
              "       Multi Generation  New Generation  Premium Apartment  \\\n",
              "0                     0               1                  0   \n",
              "1                     0               1                  0   \n",
              "2                     0               1                  0   \n",
              "3                     0               1                  0   \n",
              "4                     0               1                  0   \n",
              "...                 ...             ...                ...   \n",
              "22199                 0               0                  0   \n",
              "22200                 0               0                  0   \n",
              "22201                 0               0                  0   \n",
              "22202                 0               0                  0   \n",
              "22203                 0               0                  0   \n",
              "\n",
              "       Premium Apartment Loft  Premium Maisonette  Simplified  Standard  \\\n",
              "0                           0                   0           0         0   \n",
              "1                           0                   0           0         0   \n",
              "2                           0                   0           0         0   \n",
              "3                           0                   0           0         0   \n",
              "4                           0                   0           0         0   \n",
              "...                       ...                 ...         ...       ...   \n",
              "22199                       0                   0           0         0   \n",
              "22200                       0                   0           0         0   \n",
              "22201                       0                   0           0         0   \n",
              "22202                       0                   0           0         0   \n",
              "22203                       0                   0           0         0   \n",
              "\n",
              "       Terrace  Type S1  Type S2  \n",
              "0            0        0        0  \n",
              "1            0        0        0  \n",
              "2            0        0        0  \n",
              "3            0        0        0  \n",
              "4            0        0        0  \n",
              "...        ...      ...      ...  \n",
              "22199        0        0        0  \n",
              "22200        0        0        0  \n",
              "22201        0        0        0  \n",
              "22202        0        0        0  \n",
              "22203        0        0        0  \n",
              "\n",
              "[22204 rows x 55 columns]"
            ],
            "text/html": [
              "\n",
              "  <div id=\"df-b2f387be-c2ec-48d7-aecc-9b8820ec1c66\">\n",
              "    <div class=\"colab-df-container\">\n",
              "      <div>\n",
              "<style scoped>\n",
              "    .dataframe tbody tr th:only-of-type {\n",
              "        vertical-align: middle;\n",
              "    }\n",
              "\n",
              "    .dataframe tbody tr th {\n",
              "        vertical-align: top;\n",
              "    }\n",
              "\n",
              "    .dataframe thead th {\n",
              "        text-align: right;\n",
              "    }\n",
              "</style>\n",
              "<table border=\"1\" class=\"dataframe\">\n",
              "  <thead>\n",
              "    <tr style=\"text-align: right;\">\n",
              "      <th></th>\n",
              "      <th>floor_area_sqm</th>\n",
              "      <th>lease_commence_date</th>\n",
              "      <th>resale_price</th>\n",
              "      <th>ANG MO KIO</th>\n",
              "      <th>BEDOK</th>\n",
              "      <th>BISHAN</th>\n",
              "      <th>BUKIT BATOK</th>\n",
              "      <th>BUKIT MERAH</th>\n",
              "      <th>BUKIT PANJANG</th>\n",
              "      <th>BUKIT TIMAH</th>\n",
              "      <th>...</th>\n",
              "      <th>Multi Generation</th>\n",
              "      <th>New Generation</th>\n",
              "      <th>Premium Apartment</th>\n",
              "      <th>Premium Apartment Loft</th>\n",
              "      <th>Premium Maisonette</th>\n",
              "      <th>Simplified</th>\n",
              "      <th>Standard</th>\n",
              "      <th>Terrace</th>\n",
              "      <th>Type S1</th>\n",
              "      <th>Type S2</th>\n",
              "    </tr>\n",
              "  </thead>\n",
              "  <tbody>\n",
              "    <tr>\n",
              "      <th>0</th>\n",
              "      <td>-1.193788</td>\n",
              "      <td>1981</td>\n",
              "      <td>270000.0</td>\n",
              "      <td>1</td>\n",
              "      <td>0</td>\n",
              "      <td>0</td>\n",
              "      <td>0</td>\n",
              "      <td>0</td>\n",
              "      <td>0</td>\n",
              "      <td>0</td>\n",
              "      <td>...</td>\n",
              "      <td>0</td>\n",
              "      <td>1</td>\n",
              "      <td>0</td>\n",
              "      <td>0</td>\n",
              "      <td>0</td>\n",
              "      <td>0</td>\n",
              "      <td>0</td>\n",
              "      <td>0</td>\n",
              "      <td>0</td>\n",
              "      <td>0</td>\n",
              "    </tr>\n",
              "    <tr>\n",
              "      <th>1</th>\n",
              "      <td>-0.988498</td>\n",
              "      <td>1976</td>\n",
              "      <td>295000.0</td>\n",
              "      <td>1</td>\n",
              "      <td>0</td>\n",
              "      <td>0</td>\n",
              "      <td>0</td>\n",
              "      <td>0</td>\n",
              "      <td>0</td>\n",
              "      <td>0</td>\n",
              "      <td>...</td>\n",
              "      <td>0</td>\n",
              "      <td>1</td>\n",
              "      <td>0</td>\n",
              "      <td>0</td>\n",
              "      <td>0</td>\n",
              "      <td>0</td>\n",
              "      <td>0</td>\n",
              "      <td>0</td>\n",
              "      <td>0</td>\n",
              "      <td>0</td>\n",
              "    </tr>\n",
              "    <tr>\n",
              "      <th>2</th>\n",
              "      <td>-1.234846</td>\n",
              "      <td>1978</td>\n",
              "      <td>270000.0</td>\n",
              "      <td>1</td>\n",
              "      <td>0</td>\n",
              "      <td>0</td>\n",
              "      <td>0</td>\n",
              "      <td>0</td>\n",
              "      <td>0</td>\n",
              "      <td>0</td>\n",
              "      <td>...</td>\n",
              "      <td>0</td>\n",
              "      <td>1</td>\n",
              "      <td>0</td>\n",
              "      <td>0</td>\n",
              "      <td>0</td>\n",
              "      <td>0</td>\n",
              "      <td>0</td>\n",
              "      <td>0</td>\n",
              "      <td>0</td>\n",
              "      <td>0</td>\n",
              "    </tr>\n",
              "    <tr>\n",
              "      <th>3</th>\n",
              "      <td>-1.234846</td>\n",
              "      <td>1978</td>\n",
              "      <td>230000.0</td>\n",
              "      <td>1</td>\n",
              "      <td>0</td>\n",
              "      <td>0</td>\n",
              "      <td>0</td>\n",
              "      <td>0</td>\n",
              "      <td>0</td>\n",
              "      <td>0</td>\n",
              "      <td>...</td>\n",
              "      <td>0</td>\n",
              "      <td>1</td>\n",
              "      <td>0</td>\n",
              "      <td>0</td>\n",
              "      <td>0</td>\n",
              "      <td>0</td>\n",
              "      <td>0</td>\n",
              "      <td>0</td>\n",
              "      <td>0</td>\n",
              "      <td>0</td>\n",
              "    </tr>\n",
              "    <tr>\n",
              "      <th>4</th>\n",
              "      <td>-1.193788</td>\n",
              "      <td>1981</td>\n",
              "      <td>262500.0</td>\n",
              "      <td>1</td>\n",
              "      <td>0</td>\n",
              "      <td>0</td>\n",
              "      <td>0</td>\n",
              "      <td>0</td>\n",
              "      <td>0</td>\n",
              "      <td>0</td>\n",
              "      <td>...</td>\n",
              "      <td>0</td>\n",
              "      <td>1</td>\n",
              "      <td>0</td>\n",
              "      <td>0</td>\n",
              "      <td>0</td>\n",
              "      <td>0</td>\n",
              "      <td>0</td>\n",
              "      <td>0</td>\n",
              "      <td>0</td>\n",
              "      <td>0</td>\n",
              "    </tr>\n",
              "    <tr>\n",
              "      <th>...</th>\n",
              "      <td>...</td>\n",
              "      <td>...</td>\n",
              "      <td>...</td>\n",
              "      <td>...</td>\n",
              "      <td>...</td>\n",
              "      <td>...</td>\n",
              "      <td>...</td>\n",
              "      <td>...</td>\n",
              "      <td>...</td>\n",
              "      <td>...</td>\n",
              "      <td>...</td>\n",
              "      <td>...</td>\n",
              "      <td>...</td>\n",
              "      <td>...</td>\n",
              "      <td>...</td>\n",
              "      <td>...</td>\n",
              "      <td>...</td>\n",
              "      <td>...</td>\n",
              "      <td>...</td>\n",
              "      <td>...</td>\n",
              "      <td>...</td>\n",
              "    </tr>\n",
              "    <tr>\n",
              "      <th>22199</th>\n",
              "      <td>1.844515</td>\n",
              "      <td>1988</td>\n",
              "      <td>580000.0</td>\n",
              "      <td>0</td>\n",
              "      <td>0</td>\n",
              "      <td>0</td>\n",
              "      <td>0</td>\n",
              "      <td>0</td>\n",
              "      <td>0</td>\n",
              "      <td>0</td>\n",
              "      <td>...</td>\n",
              "      <td>0</td>\n",
              "      <td>0</td>\n",
              "      <td>0</td>\n",
              "      <td>0</td>\n",
              "      <td>0</td>\n",
              "      <td>0</td>\n",
              "      <td>0</td>\n",
              "      <td>0</td>\n",
              "      <td>0</td>\n",
              "      <td>0</td>\n",
              "    </tr>\n",
              "    <tr>\n",
              "      <th>22200</th>\n",
              "      <td>2.008748</td>\n",
              "      <td>1988</td>\n",
              "      <td>565000.0</td>\n",
              "      <td>0</td>\n",
              "      <td>0</td>\n",
              "      <td>0</td>\n",
              "      <td>0</td>\n",
              "      <td>0</td>\n",
              "      <td>0</td>\n",
              "      <td>0</td>\n",
              "      <td>...</td>\n",
              "      <td>0</td>\n",
              "      <td>0</td>\n",
              "      <td>0</td>\n",
              "      <td>0</td>\n",
              "      <td>0</td>\n",
              "      <td>0</td>\n",
              "      <td>0</td>\n",
              "      <td>0</td>\n",
              "      <td>0</td>\n",
              "      <td>0</td>\n",
              "    </tr>\n",
              "    <tr>\n",
              "      <th>22201</th>\n",
              "      <td>2.747795</td>\n",
              "      <td>1992</td>\n",
              "      <td>633000.0</td>\n",
              "      <td>0</td>\n",
              "      <td>0</td>\n",
              "      <td>0</td>\n",
              "      <td>0</td>\n",
              "      <td>0</td>\n",
              "      <td>0</td>\n",
              "      <td>0</td>\n",
              "      <td>...</td>\n",
              "      <td>0</td>\n",
              "      <td>0</td>\n",
              "      <td>0</td>\n",
              "      <td>0</td>\n",
              "      <td>0</td>\n",
              "      <td>0</td>\n",
              "      <td>0</td>\n",
              "      <td>0</td>\n",
              "      <td>0</td>\n",
              "      <td>0</td>\n",
              "    </tr>\n",
              "    <tr>\n",
              "      <th>22202</th>\n",
              "      <td>2.747795</td>\n",
              "      <td>1992</td>\n",
              "      <td>788888.0</td>\n",
              "      <td>0</td>\n",
              "      <td>0</td>\n",
              "      <td>0</td>\n",
              "      <td>0</td>\n",
              "      <td>0</td>\n",
              "      <td>0</td>\n",
              "      <td>0</td>\n",
              "      <td>...</td>\n",
              "      <td>0</td>\n",
              "      <td>0</td>\n",
              "      <td>0</td>\n",
              "      <td>0</td>\n",
              "      <td>0</td>\n",
              "      <td>0</td>\n",
              "      <td>0</td>\n",
              "      <td>0</td>\n",
              "      <td>0</td>\n",
              "      <td>0</td>\n",
              "    </tr>\n",
              "    <tr>\n",
              "      <th>22203</th>\n",
              "      <td>1.967690</td>\n",
              "      <td>1987</td>\n",
              "      <td>618000.0</td>\n",
              "      <td>0</td>\n",
              "      <td>0</td>\n",
              "      <td>0</td>\n",
              "      <td>0</td>\n",
              "      <td>0</td>\n",
              "      <td>0</td>\n",
              "      <td>0</td>\n",
              "      <td>...</td>\n",
              "      <td>0</td>\n",
              "      <td>0</td>\n",
              "      <td>0</td>\n",
              "      <td>0</td>\n",
              "      <td>0</td>\n",
              "      <td>0</td>\n",
              "      <td>0</td>\n",
              "      <td>0</td>\n",
              "      <td>0</td>\n",
              "      <td>0</td>\n",
              "    </tr>\n",
              "  </tbody>\n",
              "</table>\n",
              "<p>22204 rows × 55 columns</p>\n",
              "</div>\n",
              "      <button class=\"colab-df-convert\" onclick=\"convertToInteractive('df-b2f387be-c2ec-48d7-aecc-9b8820ec1c66')\"\n",
              "              title=\"Convert this dataframe to an interactive table.\"\n",
              "              style=\"display:none;\">\n",
              "        \n",
              "  <svg xmlns=\"http://www.w3.org/2000/svg\" height=\"24px\"viewBox=\"0 0 24 24\"\n",
              "       width=\"24px\">\n",
              "    <path d=\"M0 0h24v24H0V0z\" fill=\"none\"/>\n",
              "    <path d=\"M18.56 5.44l.94 2.06.94-2.06 2.06-.94-2.06-.94-.94-2.06-.94 2.06-2.06.94zm-11 1L8.5 8.5l.94-2.06 2.06-.94-2.06-.94L8.5 2.5l-.94 2.06-2.06.94zm10 10l.94 2.06.94-2.06 2.06-.94-2.06-.94-.94-2.06-.94 2.06-2.06.94z\"/><path d=\"M17.41 7.96l-1.37-1.37c-.4-.4-.92-.59-1.43-.59-.52 0-1.04.2-1.43.59L10.3 9.45l-7.72 7.72c-.78.78-.78 2.05 0 2.83L4 21.41c.39.39.9.59 1.41.59.51 0 1.02-.2 1.41-.59l7.78-7.78 2.81-2.81c.8-.78.8-2.07 0-2.86zM5.41 20L4 18.59l7.72-7.72 1.47 1.35L5.41 20z\"/>\n",
              "  </svg>\n",
              "      </button>\n",
              "      \n",
              "  <style>\n",
              "    .colab-df-container {\n",
              "      display:flex;\n",
              "      flex-wrap:wrap;\n",
              "      gap: 12px;\n",
              "    }\n",
              "\n",
              "    .colab-df-convert {\n",
              "      background-color: #E8F0FE;\n",
              "      border: none;\n",
              "      border-radius: 50%;\n",
              "      cursor: pointer;\n",
              "      display: none;\n",
              "      fill: #1967D2;\n",
              "      height: 32px;\n",
              "      padding: 0 0 0 0;\n",
              "      width: 32px;\n",
              "    }\n",
              "\n",
              "    .colab-df-convert:hover {\n",
              "      background-color: #E2EBFA;\n",
              "      box-shadow: 0px 1px 2px rgba(60, 64, 67, 0.3), 0px 1px 3px 1px rgba(60, 64, 67, 0.15);\n",
              "      fill: #174EA6;\n",
              "    }\n",
              "\n",
              "    [theme=dark] .colab-df-convert {\n",
              "      background-color: #3B4455;\n",
              "      fill: #D2E3FC;\n",
              "    }\n",
              "\n",
              "    [theme=dark] .colab-df-convert:hover {\n",
              "      background-color: #434B5C;\n",
              "      box-shadow: 0px 1px 3px 1px rgba(0, 0, 0, 0.15);\n",
              "      filter: drop-shadow(0px 1px 2px rgba(0, 0, 0, 0.3));\n",
              "      fill: #FFFFFF;\n",
              "    }\n",
              "  </style>\n",
              "\n",
              "      <script>\n",
              "        const buttonEl =\n",
              "          document.querySelector('#df-b2f387be-c2ec-48d7-aecc-9b8820ec1c66 button.colab-df-convert');\n",
              "        buttonEl.style.display =\n",
              "          google.colab.kernel.accessAllowed ? 'block' : 'none';\n",
              "\n",
              "        async function convertToInteractive(key) {\n",
              "          const element = document.querySelector('#df-b2f387be-c2ec-48d7-aecc-9b8820ec1c66');\n",
              "          const dataTable =\n",
              "            await google.colab.kernel.invokeFunction('convertToInteractive',\n",
              "                                                     [key], {});\n",
              "          if (!dataTable) return;\n",
              "\n",
              "          const docLinkHtml = 'Like what you see? Visit the ' +\n",
              "            '<a target=\"_blank\" href=https://colab.research.google.com/notebooks/data_table.ipynb>data table notebook</a>'\n",
              "            + ' to learn more about interactive tables.';\n",
              "          element.innerHTML = '';\n",
              "          dataTable['output_type'] = 'display_data';\n",
              "          await google.colab.output.renderOutput(dataTable, element);\n",
              "          const docLink = document.createElement('div');\n",
              "          docLink.innerHTML = docLinkHtml;\n",
              "          element.appendChild(docLink);\n",
              "        }\n",
              "      </script>\n",
              "    </div>\n",
              "  </div>\n",
              "  "
            ]
          },
          "metadata": {},
          "execution_count": 22
        }
      ]
    },
    {
      "cell_type": "code",
      "source": [
        "X = df.drop(columns=\"resale_price\")\n",
        "Y = df[\"resale_price\"]"
      ],
      "metadata": {
        "id": "i4xsVQEmjcd4"
      },
      "execution_count": 23,
      "outputs": []
    },
    {
      "cell_type": "code",
      "source": [
        "from sklearn.model_selection import train_test_split"
      ],
      "metadata": {
        "id": "GdrzJ-VFjlM4"
      },
      "execution_count": 24,
      "outputs": []
    },
    {
      "cell_type": "code",
      "source": [
        "X_train, X_test, Y_train, Y_test = train_test_split(X,Y, random_state=1)"
      ],
      "metadata": {
        "id": "eghTsQiJjpW8"
      },
      "execution_count": 25,
      "outputs": []
    },
    {
      "cell_type": "code",
      "source": [
        "from sklearn import linear_model"
      ],
      "metadata": {
        "id": "M1zQ0TpOkFbg"
      },
      "execution_count": 26,
      "outputs": []
    },
    {
      "cell_type": "code",
      "source": [
        "from sklearn.metrics import mean_squared_error"
      ],
      "metadata": {
        "id": "tuYF0EVbkUoM"
      },
      "execution_count": 27,
      "outputs": []
    },
    {
      "cell_type": "code",
      "source": [
        "model = linear_model.LinearRegression()"
      ],
      "metadata": {
        "id": "KnnWaDB8kXIL"
      },
      "execution_count": 28,
      "outputs": []
    },
    {
      "cell_type": "code",
      "source": [
        "model.fit(X_train, Y_train)\n",
        "pred = model.predict(X_test)\n",
        "print(\"rmse is\", mean_squared_error(Y_test, pred)**0.5)"
      ],
      "metadata": {
        "colab": {
          "base_uri": "https://localhost:8080/"
        },
        "id": "Pvu_yKUMkZ-G",
        "outputId": "f552ee73-de9f-413e-c7af-86ae466f49ca"
      },
      "execution_count": 29,
      "outputs": [
        {
          "output_type": "stream",
          "name": "stdout",
          "text": [
            "rmse is 62455.431314234214\n"
          ]
        }
      ]
    },
    {
      "cell_type": "code",
      "source": [
        "from sklearn import tree"
      ],
      "metadata": {
        "id": "OJnIz1NGkcub"
      },
      "execution_count": 30,
      "outputs": []
    },
    {
      "cell_type": "code",
      "source": [
        "model = tree.DecisionTreeRegressor(random_state=1)"
      ],
      "metadata": {
        "id": "hLZ2JBaPkfWf"
      },
      "execution_count": 31,
      "outputs": []
    },
    {
      "cell_type": "code",
      "source": [
        "model.fit(X_train, Y_train)\n",
        "pred = model.predict(X_test)\n",
        "print(\"rmse is\", mean_squared_error(Y_test, pred)**0.5)"
      ],
      "metadata": {
        "colab": {
          "base_uri": "https://localhost:8080/"
        },
        "id": "alfmfVKHkj5B",
        "outputId": "5d166f86-3f85-48da-b4f7-1de91adb11a7"
      },
      "execution_count": 32,
      "outputs": [
        {
          "output_type": "stream",
          "name": "stdout",
          "text": [
            "rmse is 43711.16010257397\n"
          ]
        }
      ]
    },
    {
      "cell_type": "code",
      "source": [
        "from sklearn import ensemble"
      ],
      "metadata": {
        "id": "t0ilWST5kpzE"
      },
      "execution_count": 33,
      "outputs": []
    },
    {
      "cell_type": "code",
      "source": [
        "model = ensemble.RandomForestRegressor(random_state=1)"
      ],
      "metadata": {
        "id": "ftViPqsaksRM"
      },
      "execution_count": 34,
      "outputs": []
    },
    {
      "cell_type": "code",
      "source": [
        "model.fit(X_train, Y_train)\n",
        "pred = model.predict(X_test)\n",
        "print(\"rmse is\", mean_squared_error(Y_test, pred)**0.5)"
      ],
      "metadata": {
        "colab": {
          "base_uri": "https://localhost:8080/"
        },
        "id": "fN5xzhAqkuZs",
        "outputId": "9540cfbc-3a99-4fa5-c607-f6d77a1c720f"
      },
      "execution_count": 35,
      "outputs": [
        {
          "output_type": "stream",
          "name": "stdout",
          "text": [
            "rmse is 40131.48387287037\n"
          ]
        }
      ]
    },
    {
      "cell_type": "code",
      "source": [
        "model = ensemble.GradientBoostingRegressor(random_state=1)"
      ],
      "metadata": {
        "id": "EIgCMi4hkw0e"
      },
      "execution_count": 36,
      "outputs": []
    },
    {
      "cell_type": "code",
      "source": [
        "model.fit(X_train, Y_train)\n",
        "pred = model.predict(X_test)\n",
        "print(\"rmse is\", mean_squared_error(Y_test, pred)**0.5)"
      ],
      "metadata": {
        "colab": {
          "base_uri": "https://localhost:8080/"
        },
        "id": "6tmw8Ysnk0We",
        "outputId": "f962b25d-ea31-458e-fddb-84583f492a3b"
      },
      "execution_count": 37,
      "outputs": [
        {
          "output_type": "stream",
          "name": "stdout",
          "text": [
            "rmse is 62325.73754141881\n"
          ]
        }
      ]
    },
    {
      "cell_type": "code",
      "source": [
        "from sklearn import neural_network"
      ],
      "metadata": {
        "id": "OdQocR4tk2HF"
      },
      "execution_count": 38,
      "outputs": []
    },
    {
      "cell_type": "code",
      "source": [
        "model = neural_network.MLPRegressor(random_state=1)"
      ],
      "metadata": {
        "id": "wnRIff-zk5F4"
      },
      "execution_count": 39,
      "outputs": []
    },
    {
      "cell_type": "code",
      "source": [
        "model.fit(X_train, Y_train)\n",
        "pred = model.predict(X_test)\n",
        "print(\"rmse is\", mean_squared_error(Y_test, pred)**0.5)"
      ],
      "metadata": {
        "colab": {
          "base_uri": "https://localhost:8080/"
        },
        "id": "v0zU5P-fk7eV",
        "outputId": "162ce28f-b032-4584-b192-94899a236b30"
      },
      "execution_count": 40,
      "outputs": [
        {
          "output_type": "stream",
          "name": "stdout",
          "text": [
            "rmse is 151107.6835284498\n"
          ]
        },
        {
          "output_type": "stream",
          "name": "stderr",
          "text": [
            "/usr/local/lib/python3.7/dist-packages/sklearn/neural_network/_multilayer_perceptron.py:696: ConvergenceWarning: Stochastic Optimizer: Maximum iterations (200) reached and the optimization hasn't converged yet.\n",
            "  ConvergenceWarning,\n"
          ]
        }
      ]
    },
    {
      "cell_type": "code",
      "source": [
        "from keras.models import Sequential"
      ],
      "metadata": {
        "id": "Qc8UsppZk8_9"
      },
      "execution_count": 94,
      "outputs": []
    },
    {
      "cell_type": "code",
      "source": [
        "from keras.layers import Dense, Dropout"
      ],
      "metadata": {
        "id": "RKhBxxMIlGeX"
      },
      "execution_count": 109,
      "outputs": []
    },
    {
      "cell_type": "code",
      "source": [
        "model = Sequential()"
      ],
      "metadata": {
        "id": "WMD9_8YplJn4"
      },
      "execution_count": 110,
      "outputs": []
    },
    {
      "cell_type": "code",
      "source": [
        "model.add(Dense(54, input_dim=54, activation= \"relu\"))\n",
        "model.add(Dropout(0.2))"
      ],
      "metadata": {
        "id": "NFm5VI2llNI3"
      },
      "execution_count": 111,
      "outputs": []
    },
    {
      "cell_type": "code",
      "source": [
        "model.add(Dense(54, activation= \"relu\"))\n",
        "model.add(Dropout(0.2))"
      ],
      "metadata": {
        "id": "31QILZJroh8a"
      },
      "execution_count": 112,
      "outputs": []
    },
    {
      "cell_type": "code",
      "source": [
        "model.add(Dense(1, activation= \"linear\"))\n",
        "model.add(Dropout(0.2))"
      ],
      "metadata": {
        "id": "stq01IWMloq6"
      },
      "execution_count": 113,
      "outputs": []
    },
    {
      "cell_type": "code",
      "source": [
        "model.compile(loss=\"mse\", optimizer= \"adam\", metrics=[\"mse\"])"
      ],
      "metadata": {
        "id": "bA_4jkJqludj"
      },
      "execution_count": 114,
      "outputs": []
    },
    {
      "cell_type": "code",
      "source": [
        "history = model.fit(X_train, Y_train, batch_size=2, epochs=30)"
      ],
      "metadata": {
        "colab": {
          "base_uri": "https://localhost:8080/"
        },
        "id": "j7KSqNGil9-Q",
        "outputId": "413e65f7-b121-4824-d5da-e62849c33525"
      },
      "execution_count": 115,
      "outputs": [
        {
          "output_type": "stream",
          "name": "stdout",
          "text": [
            "Epoch 1/30\n",
            "8327/8327 [==============================] - 22s 3ms/step - loss: 68691226624.0000 - mse: 68691226624.0000\n",
            "Epoch 2/30\n",
            "8327/8327 [==============================] - 22s 3ms/step - loss: 63605825536.0000 - mse: 63605825536.0000\n",
            "Epoch 3/30\n",
            "8327/8327 [==============================] - 22s 3ms/step - loss: 63338696704.0000 - mse: 63338696704.0000\n",
            "Epoch 4/30\n",
            "8327/8327 [==============================] - 22s 3ms/step - loss: 63266570240.0000 - mse: 63266570240.0000\n",
            "Epoch 5/30\n",
            "8327/8327 [==============================] - 23s 3ms/step - loss: 60812328960.0000 - mse: 60812328960.0000\n",
            "Epoch 6/30\n",
            "8327/8327 [==============================] - 22s 3ms/step - loss: 59580071936.0000 - mse: 59580071936.0000\n",
            "Epoch 7/30\n",
            "8327/8327 [==============================] - 22s 3ms/step - loss: 58773188608.0000 - mse: 58773188608.0000\n",
            "Epoch 8/30\n",
            "8327/8327 [==============================] - 22s 3ms/step - loss: 55876968448.0000 - mse: 55876968448.0000\n",
            "Epoch 9/30\n",
            "8327/8327 [==============================] - 22s 3ms/step - loss: 54705602560.0000 - mse: 54705602560.0000\n",
            "Epoch 10/30\n",
            "8327/8327 [==============================] - 22s 3ms/step - loss: 53935149056.0000 - mse: 53935149056.0000\n",
            "Epoch 11/30\n",
            "8327/8327 [==============================] - 23s 3ms/step - loss: 54577774592.0000 - mse: 54577774592.0000\n",
            "Epoch 12/30\n",
            "8327/8327 [==============================] - 22s 3ms/step - loss: 53068664832.0000 - mse: 53068664832.0000\n",
            "Epoch 13/30\n",
            "8327/8327 [==============================] - 22s 3ms/step - loss: 53947133952.0000 - mse: 53947133952.0000\n",
            "Epoch 14/30\n",
            "8327/8327 [==============================] - 22s 3ms/step - loss: 54571380736.0000 - mse: 54571380736.0000\n",
            "Epoch 15/30\n",
            "8327/8327 [==============================] - 22s 3ms/step - loss: 54650630144.0000 - mse: 54650630144.0000\n",
            "Epoch 16/30\n",
            "8327/8327 [==============================] - 22s 3ms/step - loss: 53291044864.0000 - mse: 53291044864.0000\n",
            "Epoch 17/30\n",
            "8327/8327 [==============================] - 22s 3ms/step - loss: 53081927680.0000 - mse: 53081927680.0000\n",
            "Epoch 18/30\n",
            "8327/8327 [==============================] - 23s 3ms/step - loss: 52430598144.0000 - mse: 52430598144.0000\n",
            "Epoch 19/30\n",
            "8327/8327 [==============================] - 22s 3ms/step - loss: 53203238912.0000 - mse: 53203238912.0000\n",
            "Epoch 20/30\n",
            "8327/8327 [==============================] - 22s 3ms/step - loss: 51650768896.0000 - mse: 51650768896.0000\n",
            "Epoch 21/30\n",
            "8327/8327 [==============================] - 22s 3ms/step - loss: 52608331776.0000 - mse: 52608331776.0000\n",
            "Epoch 22/30\n",
            "8327/8327 [==============================] - 22s 3ms/step - loss: 51494920192.0000 - mse: 51494920192.0000\n",
            "Epoch 23/30\n",
            "8327/8327 [==============================] - 22s 3ms/step - loss: 50869301248.0000 - mse: 50869301248.0000\n",
            "Epoch 24/30\n",
            "8327/8327 [==============================] - 22s 3ms/step - loss: 51273129984.0000 - mse: 51273129984.0000\n",
            "Epoch 25/30\n",
            "8327/8327 [==============================] - 23s 3ms/step - loss: 51317198848.0000 - mse: 51317198848.0000\n",
            "Epoch 26/30\n",
            "8327/8327 [==============================] - 22s 3ms/step - loss: 50046685184.0000 - mse: 50046685184.0000\n",
            "Epoch 27/30\n",
            "8327/8327 [==============================] - 22s 3ms/step - loss: 51068751872.0000 - mse: 51068751872.0000\n",
            "Epoch 28/30\n",
            "8327/8327 [==============================] - 22s 3ms/step - loss: 50706350080.0000 - mse: 50706350080.0000\n",
            "Epoch 29/30\n",
            "8327/8327 [==============================] - 22s 3ms/step - loss: 50070495232.0000 - mse: 50070495232.0000\n",
            "Epoch 30/30\n",
            "8327/8327 [==============================] - 22s 3ms/step - loss: 50915094528.0000 - mse: 50915094528.0000\n"
          ]
        }
      ]
    },
    {
      "cell_type": "code",
      "source": [
        "import matplotlib.pyplot as plt\n"
      ],
      "metadata": {
        "id": "mT8je4MNt-yY"
      },
      "execution_count": 105,
      "outputs": []
    },
    {
      "cell_type": "code",
      "source": [
        "plt.plot(history.history['mse'])"
      ],
      "metadata": {
        "colab": {
          "base_uri": "https://localhost:8080/",
          "height": 294
        },
        "id": "qUBh5YeomHgk",
        "outputId": "a246c05d-1b17-4cbd-fb25-c1da8b70f1cd"
      },
      "execution_count": 106,
      "outputs": [
        {
          "output_type": "execute_result",
          "data": {
            "text/plain": [
              "[<matplotlib.lines.Line2D at 0x7f65f6427a10>]"
            ]
          },
          "metadata": {},
          "execution_count": 106
        },
        {
          "output_type": "display_data",
          "data": {
            "text/plain": [
              "<Figure size 432x288 with 1 Axes>"
            ],
            "image/png": "[encoded data removed]"
          },
          "metadata": {
            "needs_background": "light"
          }
        }
      ]
    },
    {
      "cell_type": "code",
      "source": [
        "result = model.evaluate(X_test, Y_test)"
      ],
      "metadata": {
        "colab": {
          "base_uri": "https://localhost:8080/"
        },
        "id": "tX0mmBxzw8_h",
        "outputId": "7e93da19-b2f9-4796-f2bb-e27d1f5928bc"
      },
      "execution_count": 107,
      "outputs": [
        {
          "output_type": "stream",
          "name": "stdout",
          "text": [
            "174/174 [==============================] - 1s 4ms/step - loss: 211946160128.0000 - mse: 211946160128.0000\n"
          ]
        }
      ]
    },
    {
      "cell_type": "code",
      "source": [
        "result[1]**0.5"
      ],
      "metadata": {
        "colab": {
          "base_uri": "https://localhost:8080/"
        },
        "id": "i5ydZylwxJVq",
        "outputId": "5de3c6a1-4c80-42f3-96f7-c8f8c0e6acb3"
      },
      "execution_count": 108,
      "outputs": [
        {
          "output_type": "execute_result",
          "data": {
            "text/plain": [
              "460376.1072514515"
            ]
          },
          "metadata": {},
          "execution_count": 108
        }
      ]
    },
    {
      "cell_type": "code",
      "source": [],
      "metadata": {
        "id": "SzK82F1ixSVF"
      },
      "execution_count": null,
      "outputs": []
    }
  ]
}